{
 "cells": [
  {
   "cell_type": "markdown",
   "metadata": {},
   "source": [
    "Singularityを用いてMPIによる並列分散処理を行う場合は少し工夫が必要になります。\n",
    "特に以下の2点を考慮する必要があります。\n",
    "\n",
    "* コンテナ内にMPIがインストールされていること\n",
    "* コンテナの外からMPIを起動すること\n",
    "\n",
    "従って、コンテナ内とコンテナ内外にインストールされたMPIは同じバージョンであり、\n",
    "同じようにbuildされていることが望ましいです。また、MPIのバージョンによっては、Singularityによる実行がサポートされておらず（主にABIインターフェイスの問題）、不可能な場合があります。\n",
    "\n",
    "AAICで実行するためには以下のようにします。まず、MPIの一実装であるOpenMPIのModuleをloadします。"
   ]
  },
  {
   "cell_type": "code",
   "execution_count": null,
   "metadata": {},
   "outputs": [],
   "source": [
    "module purge\n",
    "module load openmpi/2.1.1/gcc4.8.5_cuda8.0"
   ]
  },
  {
   "cell_type": "markdown",
   "metadata": {},
   "source": [
    "MPIプログラムのサンプルとして、OpenMPIのコードを取得します。\n",
    "このなかのexamplesをサンプルプログラムとして使用します。"
   ]
  },
  {
   "cell_type": "code",
   "execution_count": null,
   "metadata": {},
   "outputs": [],
   "source": [
    "wget https://www.open-mpi.org/software/ompi/v2.1/downloads/openmpi-2.1.1.tar.gz\n",
    "tar xvzf openmpi-2.1.1.tar.gz\n",
    " ls openmpi-2.1.1/examples/"
   ]
  },
  {
   "cell_type": "markdown",
   "metadata": {},
   "source": [
    "examples内のhello_c.cをサンプルプログラムとしてbuildします。buildの際はコンテナ内にインストールされたコンパイラを使用します。"
   ]
  },
  {
   "cell_type": "code",
   "execution_count": null,
   "metadata": {},
   "outputs": [],
   "source": [
    "singularity exec --nv aaic-base-gpu.img mpicc openmpi-2.1.1/examples/hello_c.c "
   ]
  },
  {
   "cell_type": "markdown",
   "metadata": {},
   "source": [
    "プログラムを実行します。"
   ]
  },
  {
   "cell_type": "code",
   "execution_count": null,
   "metadata": {},
   "outputs": [],
   "source": [
    "mpirun -np 4 singularity exec --nv aaic-base-gpu.img ./a.out"
   ]
  },
  {
   "cell_type": "markdown",
   "metadata": {},
   "source": [
    "mpi4pyを用いて実装されたプログラム（分散深層学習で多い利用形態）でも同様です。\n",
    "ここでは分散深層学習フレームワークの1つであるChainerMNを用いてSIngularityで実行してみます。\n",
    "ChainerMNのAAICでの実行方法の詳細は[ここ](https://github.com/aistairc/aaic_gathering/blob/master/2/6_chainermn_run_with_nqsii.ipynb)を参照してください。"
   ]
  },
  {
   "cell_type": "code",
   "execution_count": null,
   "metadata": {},
   "outputs": [],
   "source": [
    "curl -L https://github.com/chainer/chainermn/archive/v1.0.0.tar.gz | tar zx"
   ]
  },
  {
   "cell_type": "code",
   "execution_count": null,
   "metadata": {},
   "outputs": [],
   "source": [
    "cat share/submit_chainermn_with_singularity.nqs"
   ]
  },
  {
   "cell_type": "code",
   "execution_count": null,
   "metadata": {},
   "outputs": [],
   "source": [
    "qsub share/submit_chainermn_with_singularity.nqs"
   ]
  }
 ],
 "metadata": {
  "kernelspec": {
   "display_name": "Bash",
   "language": "bash",
   "name": "bash"
  },
  "language_info": {
   "codemirror_mode": "shell",
   "file_extension": ".sh",
   "mimetype": "text/x-sh",
   "name": "bash"
  }
 },
 "nbformat": 4,
 "nbformat_minor": 2
}
