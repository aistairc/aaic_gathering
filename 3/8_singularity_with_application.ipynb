{
 "cells": [
  {
   "cell_type": "markdown",
   "metadata": {},
   "source": [
    "最後に、実際のアプリケーションで実行を試してみましょう。\n",
    "以下は、[ACL(Annual Meeting of the\n",
    "Association for Computational Linguistics) 2017](http://acl2017.org/)で発表された[論文](https://arxiv.org/abs/1704.07926)内に記載されている内容のプログラムです。\n",
    "\n",
    "これをAAIC（や他のスパコン）で動かすにはどうしたら良いでしょうか？\n",
    "\n",
    "https://github.com/kelvinguu/lang2program"
   ]
  },
  {
   "cell_type": "code",
   "execution_count": null,
   "metadata": {},
   "outputs": [],
   "source": [
    "git clone https://github.com/kelvinguu/lang2program.git"
   ]
  },
  {
   "cell_type": "code",
   "execution_count": null,
   "metadata": {},
   "outputs": [],
   "source": [
    "mkdir -p lang2program/data\n",
    "cd lang2program/data\n",
    "wget http://nlp.stanford.edu/data/glove.6B.zip\n",
    "unzip glove.6B.zip -d glove.6B\n",
    "wget https://nlp.stanford.edu/projects/scone/scone.zip\n",
    "unzip scone.zip\n",
    "cd .. && pwd"
   ]
  },
  {
   "cell_type": "code",
   "execution_count": null,
   "metadata": {},
   "outputs": [],
   "source": [
    "python scripts/main.py configs/rlong/best-scene.txt"
   ]
  },
  {
   "cell_type": "markdown",
   "metadata": {},
   "source": [
    "ヒント"
   ]
  },
  {
   "cell_type": "code",
   "execution_count": null,
   "metadata": {},
   "outputs": [],
   "source": [
    "cat launch_docker"
   ]
  },
  {
   "cell_type": "markdown",
   "metadata": {},
   "source": [
    "答え（のひとつ）は以下になります。"
   ]
  },
  {
   "cell_type": "code",
   "execution_count": null,
   "metadata": {},
   "outputs": [],
   "source": [
    "cat ../share/answer"
   ]
  }
 ],
 "metadata": {
  "kernelspec": {
   "display_name": "Bash",
   "language": "bash",
   "name": "bash"
  },
  "language_info": {
   "codemirror_mode": "shell",
   "file_extension": ".sh",
   "mimetype": "text/x-sh",
   "name": "bash"
  }
 },
 "nbformat": 4,
 "nbformat_minor": 2
}
