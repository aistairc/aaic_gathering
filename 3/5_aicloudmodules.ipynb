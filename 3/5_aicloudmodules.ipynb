{
 "cells": [
  {
   "cell_type": "markdown",
   "metadata": {},
   "source": [
    "AAICでは試験的にAI Cloud ModulesというAAICにカスタマイズしたDockerイメージを作成しています。\n",
    "Dockerfileのコレクションが[github](https://github.com/aistairc/aicloudmodules)にあります。\n",
    "また、Dockerイメージが[dockerhub](https://hub.docker.com/r/aistairc/aaic/)にあります。\n",
    "\n",
    "これらのAICloudModulesは、\n",
    "\n",
    "* AAICのGPUアクセラレータとInfinibandインターコネクトを活かすようにbuildしたMPI(並列処理ランタイム)を提供する[Baseモジュール](https://github.com/aistairc/aicloudmodules/tree/aaic/base)\n",
    "* Baseモジュールを基にbuildした[Deep Learningモジュール](https://github.com/aistairc/aicloudmodules/tree/aaic/dl)\n",
    "\n",
    "から構成されます。\n",
    "\n",
    "AAICでGPUを使う基本的なイメージは以下のように取得できます。\n",
    "これらはAAICのNVIDIA Pascal GPU (P100)とEDR Infinibandを活用するために、\n",
    "CUDA8.0, CuDNN 6.0, OpenMPI 2.1.1などを含んでいます。"
   ]
  },
  {
   "cell_type": "code",
   "execution_count": null,
   "metadata": {},
   "outputs": [],
   "source": [
    "singularity pull docker://aistairc/aaic:base-gpu"
   ]
  },
  {
   "cell_type": "markdown",
   "metadata": {},
   "source": [
    "また、例えば、ChainerMNを含んだイメージなどは以下のように取得できます。"
   ]
  },
  {
   "cell_type": "code",
   "execution_count": null,
   "metadata": {},
   "outputs": [],
   "source": [
    "singularity pull docker://aistairc/aaic:chainermn1.0.0-chainer2.1.0"
   ]
  },
  {
   "cell_type": "markdown",
   "metadata": {},
   "source": [
    "その他の詳細については[AICllloudModules](https://github.com/aistairc/aicloudmodules)のページを参照してください。"
   ]
  }
 ],
 "metadata": {
  "kernelspec": {
   "display_name": "Bash",
   "language": "bash",
   "name": "bash"
  },
  "language_info": {
   "codemirror_mode": "shell",
   "file_extension": ".sh",
   "mimetype": "text/x-sh",
   "name": "bash"
  }
 },
 "nbformat": 4,
 "nbformat_minor": 2
}
