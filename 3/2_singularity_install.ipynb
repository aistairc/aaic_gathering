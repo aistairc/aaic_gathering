{
 "cells": [
  {
   "cell_type": "markdown",
   "metadata": {},
   "source": [
    "以下の作業は必須ではありませんが、手元の環境にSingularityをインストールすることで様々なことが行えるようになり、理解が深まります。\n",
    "\n",
    "SIngularityを自分のラップトップやワークステーション、サーバへインストールには以下の操作を行います。<br>\n",
    "詳細については[ここ](http://singularity.lbl.gov/docs-installation)を参照してください。"
   ]
  },
  {
   "cell_type": "code",
   "execution_count": null,
   "metadata": {},
   "outputs": [],
   "source": [
    "wget https://github.com/singularityware/singularity/releases/download/2.4/singularity-2.4.tar.gz\n",
    "tar xvzf singularity-2.4.tar.gz"
   ]
  },
  {
   "cell_type": "code",
   "execution_count": null,
   "metadata": {},
   "outputs": [],
   "source": [
    "cd singularity-2.4"
   ]
  },
  {
   "cell_type": "markdown",
   "metadata": {},
   "source": [
    "--prefixの部分はインストール場所を適宜指定してください。"
   ]
  },
  {
   "cell_type": "code",
   "execution_count": null,
   "metadata": {},
   "outputs": [],
   "source": [
    "./configure --prefix=/opt/singularity/2.4\n",
    "make -j $(nproc)"
   ]
  },
  {
   "cell_type": "code",
   "execution_count": null,
   "metadata": {},
   "outputs": [],
   "source": [
    "sudo make install"
   ]
  }
 ],
 "metadata": {
  "kernelspec": {
   "display_name": "Bash",
   "language": "bash",
   "name": "bash"
  },
  "language_info": {
   "codemirror_mode": "shell",
   "file_extension": ".sh",
   "mimetype": "text/x-sh",
   "name": "bash"
  }
 },
 "nbformat": 4,
 "nbformat_minor": 2
}
