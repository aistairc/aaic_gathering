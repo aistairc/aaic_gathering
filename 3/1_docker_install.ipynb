{
 "cells": [
  {
   "cell_type": "markdown",
   "metadata": {},
   "source": [
    "以下の作業はroot権限がある自分の計算機(ラップトップやワークステーション、サーバー)で実行することを想定しています。\n",
    "作業は必須ではありませんが、手元の環境にDockerをインストールすることで様々なことが行えるようになり、理解が深まります。\n",
    "\n",
    "Dockerを自分のラップトップやワークステーション、サーバへインストールします。\n",
    "以下のページを参照してください。\n",
    "\n",
    "* [CentOS](https://docs.docker.com/engine/installation/linux/docker-ce/centos/)\n",
    "* [Ubuntu](https://docs.docker.com/engine/installation/linux/docker-ce/ubuntu/)\n",
    "\n",
    "以下のコマンドが実行できたらdockerが利用可能な状態です。"
   ]
  },
  {
   "cell_type": "code",
   "execution_count": null,
   "metadata": {},
   "outputs": [],
   "source": [
    "docker run --rm ubuntu cat /etc/lsb-release"
   ]
  },
  {
   "cell_type": "markdown",
   "metadata": {},
   "source": [
    "NVIDIA GPUを利用する場合は、nvidia-dockerもインストールします。\n",
    "以下のページのQuick startを参照してください。\n",
    "* [nvidia-docker](https://github.com/NVIDIA/nvidia-docker)\n",
    "\n",
    "以下のコマンドが実行できたらnvidia-dockerが利用可能な状態です。"
   ]
  },
  {
   "cell_type": "code",
   "execution_count": null,
   "metadata": {},
   "outputs": [],
   "source": [
    "nvidia-docker run --rm nvidia/cuda nvidia-smi"
   ]
  },
  {
   "cell_type": "markdown",
   "metadata": {},
   "source": [
    "DockerではDocker Hubで提供されているイメージを実行することができます。\n",
    "例えば、Docker Hubのnvidia/cudaレポジトリで8.0-cudnn6-develという名前のタグで提供されているイメージを実行するには\n",
    "以下のように実行します。(実際にはDocker Hubで提供されているイメージがダウンロードされて実行されます。)"
   ]
  },
  {
   "cell_type": "code",
   "execution_count": null,
   "metadata": {},
   "outputs": [],
   "source": [
    "nvidia-docker run -it nvidia/cuda:8.0-cudnn6-devel"
   ]
  },
  {
   "cell_type": "markdown",
   "metadata": {},
   "source": [
    "また、Dockerfileを記述することでイメージを作成することができます。\n",
    "上記のイメージのDockerfileは[公開](https://gitlab.com/nvidia/cuda/blob/ubuntu16.04/8.0/devel/cudnn6/Dockerfile)されており、手元のnvidia-dockerでも作成することができます。"
   ]
  },
  {
   "cell_type": "code",
   "execution_count": null,
   "metadata": {},
   "outputs": [],
   "source": [
    "wget https://gitlab.com/nvidia/cuda/raw/ubuntu16.04/8.0/devel/cudnn6/Dockerfile\n",
    "docker build --build-arg repository=nvidia/cuda ."
   ]
  },
  {
   "cell_type": "markdown",
   "metadata": {},
   "source": [
    "今回のセミナーではDockerの使い方の詳細は触れませんが、詳細は[ここ](https://docs.docker.com/)を参照してください。"
   ]
  }
 ],
 "metadata": {
  "kernelspec": {
   "display_name": "Bash",
   "language": "bash",
   "name": "bash"
  },
  "language_info": {
   "codemirror_mode": "shell",
   "file_extension": ".sh",
   "mimetype": "text/x-sh",
   "name": "bash"
  }
 },
 "nbformat": 4,
 "nbformat_minor": 2
}
