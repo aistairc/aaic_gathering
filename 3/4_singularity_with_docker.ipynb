{
 "cells": [
  {
   "cell_type": "markdown",
   "metadata": {},
   "source": [
    "Singularityでは[Docker Hub](https://hub.docker.com/)のイメージを利用することができます。\n",
    "ここでは、Docker Hub上のイメージをSingularityで実行する方法を説明します。\n",
    "\n",
    "まず、SingularityのModuleをロードします。"
   ]
  },
  {
   "cell_type": "code",
   "execution_count": null,
   "metadata": {},
   "outputs": [],
   "source": [
    ". /etc/profile.d/modules.sh\n",
    "module load singularity/2.4"
   ]
  },
  {
   "cell_type": "markdown",
   "metadata": {},
   "source": [
    "Docker Hubでは様々なDockerイメージが提供されていますが、ここではNvidiaが提供しているCUDAのDockerイメージを実行してみましょう。\n",
    "Docker Hubからイメージを持ってくるには以下のコマンドを実行します。"
   ]
  },
  {
   "cell_type": "code",
   "execution_count": null,
   "metadata": {},
   "outputs": [],
   "source": [
    "singularity pull docker://nvidia/cuda:8.0-cudnn6-devel"
   ]
  },
  {
   "cell_type": "markdown",
   "metadata": {},
   "source": [
    "docker://でdocker hubを利用することを宣言しています。\n",
    "nvidia/cudaが[レポジトリ](https://hub.docker.com/r/nvidia/cuda/)を表しており、:(コロン)以降の8.0-cudnn6-develが[Tag](https://hub.docker.com/r/nvidia/cuda/tags/)を表しています。\n",
    "\n",
    "正しくダウンロードできた場合、cuda-8.0-cudnn6-devel.imgというファイルが存在します。"
   ]
  },
  {
   "cell_type": "code",
   "execution_count": null,
   "metadata": {},
   "outputs": [],
   "source": [
    "ls"
   ]
  },
  {
   "cell_type": "markdown",
   "metadata": {},
   "source": [
    "後は、前述の実行方法と基本的には同じですが、GPUを用いた実行の場合は--nvオプションを指定する必要があります。\n",
    "例えば、GPU計算ノードであるgpx001またはgpx002へログインすることで以下のようにnvidia-smiコマンドを実行することによって確認することができます。"
   ]
  },
  {
   "cell_type": "code",
   "execution_count": null,
   "metadata": {},
   "outputs": [],
   "source": [
    "singularity exec --nv cuda-8.0-cudnn6-devel.img nvidia-smi"
   ]
  }
 ],
 "metadata": {
  "kernelspec": {
   "display_name": "Bash",
   "language": "bash",
   "name": "bash"
  },
  "language_info": {
   "codemirror_mode": "shell",
   "file_extension": ".sh",
   "mimetype": "text/x-sh",
   "name": "bash"
  }
 },
 "nbformat": 4,
 "nbformat_minor": 2
}
