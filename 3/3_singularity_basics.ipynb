{
 "cells": [
  {
   "cell_type": "markdown",
   "metadata": {},
   "source": [
    "[Singularity](http://singularity.lbl.gov/)は米国ローレンス・バークレー国立研究所で開発されているLinuxコンテナのひとつです。\n",
    "Linuxコンテナはイメージをつかうことにより、性能低下を最小限にしつつも計算機に対して柔軟なソフトウェアの構成を可能にします。\n",
    "既存のLinuxコンテナでは[Docker](https://www.docker.com/)がデファクトで用いられていますが、Dockerの場合、計算機のroot権限が任意のユーザに与えられてしまうため、AAICや既存のスーパーコンピュータなどのような共用計算機環境で利用する場合は、\n",
    "\n",
    "* 任意のユーザが任意のストレージ領域へアクセス可能になる\n",
    "* 任意のユーザが計算機に対して任意の設定を行うことが可能になる\n",
    "\n",
    "などセキュリティ上問題になります。\n",
    "Singularityは上記の欠点を解決したLinuxコンテナで、ラップトップなどの個人がroot権限を持つ環境で構築したコンテナイメージを、共有計算機環境ではユーザ権限のみで実行することが可能です。\n",
    "\n",
    "ここではSingularityの基本的な使い方について説明をします。"
   ]
  },
  {
   "cell_type": "markdown",
   "metadata": {},
   "source": [
    "AAICでSingularityを実行する場合、まず以下のコマンドを実行する必要があります。"
   ]
  },
  {
   "cell_type": "code",
   "execution_count": null,
   "metadata": {},
   "outputs": [],
   "source": [
    "module load singularity/2.4"
   ]
  },
  {
   "cell_type": "markdown",
   "metadata": {},
   "source": [
    "(Jupyter Notebook経由の実行の場合は以下を実行してください。)"
   ]
  },
  {
   "cell_type": "code",
   "execution_count": null,
   "metadata": {},
   "outputs": [],
   "source": [
    ". /etc/profile.d/modules.sh\n",
    "module load singularity/2.4"
   ]
  },
  {
   "cell_type": "markdown",
   "metadata": {},
   "source": [
    "singularityのコマンドの詳細は以下のように確認することができます。"
   ]
  },
  {
   "cell_type": "code",
   "execution_count": null,
   "metadata": {},
   "outputs": [],
   "source": [
    "singularity --help"
   ]
  },
  {
   "cell_type": "markdown",
   "metadata": {},
   "source": [
    "Singularityでは[Singularity Hub](https://singularity-hub.org/)というレポジトリが提供されています。\n",
    "今回は、このレポジトリの中のhallo-worldイメージを用いて、Singularityの実行方法の概要を学びます。\n",
    "(Singularity HubはのSingularityを実行する上で必須ではありません。）\n",
    "\n",
    "まず、Singularity Hubからhello-worldのイメージをダウンロードします。\n",
    "イメージの内容は以下のサイトにあります。\n",
    "https://github.com/vsoch/hello-world"
   ]
  },
  {
   "cell_type": "code",
   "execution_count": null,
   "metadata": {},
   "outputs": [],
   "source": [
    "singularity pull shub://vsoch/hello-world"
   ]
  },
  {
   "cell_type": "markdown",
   "metadata": {},
   "source": [
    "正しくダウンロードできた場合、vsoch-hello-world-master.simgというファイルが存在します。"
   ]
  },
  {
   "cell_type": "code",
   "execution_count": null,
   "metadata": {},
   "outputs": [],
   "source": [
    "ls"
   ]
  },
  {
   "cell_type": "markdown",
   "metadata": {},
   "source": [
    "Singularityでは主に、shell, execでイメージを利用することができます。\n",
    "\n",
    "shellはコンテナのイメージに対してシェルでインタラクティブに操作することができます。"
   ]
  },
  {
   "cell_type": "code",
   "execution_count": null,
   "metadata": {},
   "outputs": [],
   "source": [
    "singualrity shell vsoch-hello-world-master.simg"
   ]
  },
  {
   "cell_type": "markdown",
   "metadata": {},
   "source": [
    "例えば、以下のコマンドを打つと、ホストのOSはRedHat Linuxであるにも関わらず、Ubuntu 14.04の文字をみることができます。"
   ]
  },
  {
   "cell_type": "code",
   "execution_count": null,
   "metadata": {},
   "outputs": [],
   "source": [
    "cat /etc/lsb-release "
   ]
  },
  {
   "cell_type": "markdown",
   "metadata": {},
   "source": [
    "execはコンテナのイメージに対してexecしてコマンドを実行します。\n",
    "性能面ではshellと比較してexecの方が良い傾向があります。"
   ]
  },
  {
   "cell_type": "code",
   "execution_count": null,
   "metadata": {},
   "outputs": [],
   "source": [
    "singularity exec vsoch-hello-world-master.simg cat /etc/lsb-release"
   ]
  },
  {
   "cell_type": "markdown",
   "metadata": {},
   "source": [
    "また, Singularityではrunというコマンドも提供されており、予めコンテナに対して定義された動作([レシピファイル](https://github.com/vsoch/hello-world/blob/master/Singularity)中の%runscript部分)を実行することができます。"
   ]
  },
  {
   "cell_type": "code",
   "execution_count": null,
   "metadata": {},
   "outputs": [],
   "source": [
    "singularity run vsoch-hello-world-master.simg"
   ]
  },
  {
   "cell_type": "markdown",
   "metadata": {},
   "source": [
    "Singularityではコンテナのイメージの中に対してはread onlyになっていますが、共有ストレージ上のファイルなどユーザ権限でアクセスできるボリューム上のファイルに対してはwriteを行うことができます。コンテナ内のイメージへ書き込みを行う際はroot権限になったのちshellやexecのサブコマンドに--writableオプションをつけて実行します。"
   ]
  },
  {
   "cell_type": "code",
   "execution_count": null,
   "metadata": {},
   "outputs": [],
   "source": [
    "singularity exec vsoch-hello-world-master.simg echo \"Test!\" > test.txt"
   ]
  }
 ],
 "metadata": {
  "kernelspec": {
   "display_name": "Bash",
   "language": "bash",
   "name": "bash"
  },
  "language_info": {
   "codemirror_mode": "shell",
   "file_extension": ".sh",
   "mimetype": "text/x-sh",
   "name": "bash"
  }
 },
 "nbformat": 4,
 "nbformat_minor": 2
}
