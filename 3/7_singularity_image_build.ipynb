{
 "cells": [
  {
   "cell_type": "markdown",
   "metadata": {},
   "source": [
    "Singularityではスクラッチからイメージを作成することができます。\n",
    "主に以下の3つの方法があります。\n",
    "\n",
    "\n",
    "* Docker Hubで提供されているイメージから作成する方法\n",
    "* レシピファイルから作成する方法\n",
    "* Singularity Hubで提供されているイメージから作成する方法\n",
    "\n",
    "主な利用シナリオとしては、手元のroot権限があるラップトップやワークステーション、サーバでSingularityのイメージを作成し、\n",
    "作成されたイメージはファイルとしてscpなどで共有計算機(AAIC)へ転送し、イメージを用いてプログラムを実行する、\n",
    "などがあります。\n",
    "\n",
    "サブコマンドとしてbuildを使用します。"
   ]
  },
  {
   "cell_type": "code",
   "execution_count": null,
   "metadata": {},
   "outputs": [],
   "source": [
    "singularity build --help"
   ]
  },
  {
   "cell_type": "markdown",
   "metadata": {},
   "source": [
    "ここでは、まず、Docker Hubで提供されているnvidia/cudaのイメージからSingularityのイメージを作成してみます。\n",
    "以下のように実行します。\n",
    "ここで、container0.simgはコンテナのファイル名で予めファイルは存在せず任意の名前をつけます。\n",
    "また、docker://はDocker Hubを使うための宣言、nvidia/cudaはレポジトリ名、cuda:8.0-cudnn6-develはタグ名になります。"
   ]
  },
  {
   "cell_type": "code",
   "execution_count": null,
   "metadata": {},
   "outputs": [],
   "source": [
    "sudo singularity build container0.simg docker://nvidia/cuda:8.0-cudnn6-devel"
   ]
  },
  {
   "cell_type": "markdown",
   "metadata": {},
   "source": [
    "同様に、Singularity Hubで提供されているイメージから作成する場合は以下のように実行します。\n",
    "ここでは、Singularity Hubのvosh/hello-worldで提供されているイメージから作成してみます。"
   ]
  },
  {
   "cell_type": "code",
   "execution_count": null,
   "metadata": {},
   "outputs": [],
   "source": [
    "sudo singularity build container1.simg shub://vsoch/hello-world"
   ]
  },
  {
   "cell_type": "markdown",
   "metadata": {},
   "source": [
    "次に、レシピファイルからSingularityのイメージを作成してみます。\n",
    "レシピファイルのフォーマットの詳細は[ここ](http://singularity.lbl.gov/docs-recipes)を参照してください。\n",
    "以下に簡単なサンプルファイルがあります。ファイル名はDockerと異なり任意の名前をつけることができます。"
   ]
  },
  {
   "cell_type": "code",
   "execution_count": 1,
   "metadata": {},
   "outputs": [
    {
     "name": "stdout",
     "output_type": "stream",
     "text": [
      "Bootstrap: shub\n",
      "From: vsoch/hello-world\n",
      "\n",
      "%runscript\n",
      "    exec echo \"The runscript is the containers default runtime command!\"\n",
      "\n",
      "%files\n",
      "   /home/vanessa/Desktop/hello-kitty.txt        # copied to root of container\n",
      "   /home/vanessa/Desktop/party_dinosaur.gif     /opt/the-party-dino.gif #\n",
      "\n",
      "%environment\n",
      "    VARIABLE=MEATBALLVALUE\n",
      "    export VARIABLE\n",
      "\n",
      "%labels\n",
      "   AUTHOR vsochat@stanford.edu\n",
      "\n",
      "%post\n",
      "    apt-get update && apt-get -y install python3 git wget\n",
      "    mkdir /data\n",
      "    echo \"The post section is where you can install, and configure your container.\""
     ]
    }
   ],
   "source": [
    "cat share/Singularity"
   ]
  },
  {
   "cell_type": "markdown",
   "metadata": {},
   "source": [
    "その後、コンテナ名とレシピファイルを指定してビルドします。"
   ]
  },
  {
   "cell_type": "code",
   "execution_count": null,
   "metadata": {},
   "outputs": [],
   "source": [
    "cd share\n",
    "sudo singularity build container3.simg Singularity"
   ]
  },
  {
   "cell_type": "markdown",
   "metadata": {},
   "source": [
    "これらの生成されたSingularityイメージはshell, exec, runなどのサブコマンドに--writableオプションをつけることで改変することができます。\n",
    "(つまり、インタラクティブにapt-getなどすることができます。)"
   ]
  },
  {
   "cell_type": "code",
   "execution_count": null,
   "metadata": {},
   "outputs": [],
   "source": [
    "sudo singularity shell --writable container0.simg"
   ]
  },
  {
   "cell_type": "markdown",
   "metadata": {},
   "source": [
    "また、イメージファイルでなくSandbox(コンテナ内のディレクトリ)をそのままマウントすることもできます。"
   ]
  },
  {
   "cell_type": "code",
   "execution_count": null,
   "metadata": {},
   "outputs": [],
   "source": [
    "sudo singularity build --sandbox container4  docker://nvidia/cuda:8.0-cudnn6-devel"
   ]
  }
 ],
 "metadata": {
  "kernelspec": {
   "display_name": "Bash",
   "language": "bash",
   "name": "bash"
  },
  "language_info": {
   "codemirror_mode": "shell",
   "file_extension": ".sh",
   "mimetype": "text/x-sh",
   "name": "bash"
  }
 },
 "nbformat": 4,
 "nbformat_minor": 2
}
