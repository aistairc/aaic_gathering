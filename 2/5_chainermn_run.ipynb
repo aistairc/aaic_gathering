{
 "cells": [
  {
   "cell_type": "markdown",
   "metadata": {},
   "source": [
    "ChainerMNで[MNIST](https://en.wikipedia.org/wiki/MNIST_database)(手書き数字認識)のサンプルを動かします。<br>\n",
    "まず、ChainerMNのGitHubからソースコードをダウンロードします。"
   ]
  },
  {
   "cell_type": "code",
   "execution_count": null,
   "metadata": {},
   "outputs": [],
   "source": [
    "curl -L https://github.com/chainer/chainermn/archive/v1.0.0b2.tar.gz | tar zx"
   ]
  },
  {
   "cell_type": "markdown",
   "metadata": {},
   "source": [
    "chainermn-1.0.0b2というディレクトリが作成されます。"
   ]
  },
  {
   "cell_type": "code",
   "execution_count": null,
   "metadata": {},
   "outputs": [],
   "source": [
    "ls"
   ]
  },
  {
   "cell_type": "markdown",
   "metadata": {},
   "source": [
    "MNISTのサンプルはchainermn-1.0.0b2/examples/mnist以下にあります。"
   ]
  },
  {
   "cell_type": "code",
   "execution_count": null,
   "metadata": {},
   "outputs": [],
   "source": [
    "ls chainermn-1.0.0b2/examples/mnist"
   ]
  },
  {
   "cell_type": "code",
   "execution_count": null,
   "metadata": {},
   "outputs": [],
   "source": [
    "cat chainermn-1.0.0b2/examples/mnist/train_mnist.py"
   ]
  },
  {
   "cell_type": "markdown",
   "metadata": {},
   "source": [
    "どのようなオプションがあるか確認してみましょう。"
   ]
  },
  {
   "cell_type": "code",
   "execution_count": null,
   "metadata": {},
   "outputs": [],
   "source": [
    "python chainermn-1.0.0b2/examples/mnist/train_mnist.py -h"
   ]
  },
  {
   "cell_type": "markdown",
   "metadata": {},
   "source": [
    "\"-g\"オプションでGPUを使った実行をすることができます。<br>\n",
    "\"-e 数値\"オプションでepch数を指定することができます。<br>\n",
    "\"-b 数値\"オプションでミニバッチサイズを指定することができます。このミニバッチサイズに並列に実行するプロセス数を掛けたものが全体のバッチサイズとなります。<br>"
   ]
  },
  {
   "cell_type": "markdown",
   "metadata": {},
   "source": [
    "このtrain_mnist.pyをMPIを使って実行します。<br>\n",
    "MPIを使って並列にプロセスを実行する場合にはmpirun (またはmpiexec)を使用します。<br>\n",
    "どのようなオプションがあるか確認しましょう。"
   ]
  },
  {
   "cell_type": "code",
   "execution_count": null,
   "metadata": {},
   "outputs": [],
   "source": [
    "mpirun -h"
   ]
  },
  {
   "cell_type": "markdown",
   "metadata": {},
   "source": [
    "\"-n 数値\"オプションで並列に実行するプロセス数を指定することができます。<br>\n",
    "例えば、AAICは1ノードあたり8GPU搭載しているので、1ノードで実行する場合は\"-n 8\"とします。\n",
    "2ノードで実行する場合は16GPU(2ノード×8GPU)使うことになるとで\"-n 16\"とします。\n",
    "\n",
    "MPIでPythonプログラムを実行する場合は、<br>\n",
    "mpirun [MPIのオプション] python [Pythonのプログラム名] [Pythonのプログラムのオプション]<br>\n",
    "という順で引数を記述します。"
   ]
  },
  {
   "cell_type": "code",
   "execution_count": null,
   "metadata": {},
   "outputs": [],
   "source": [
    "mpirun -np 4 python chainermn-1.0.0b2/examples/mnist/train_mnist.py -g"
   ]
  },
  {
   "cell_type": "markdown",
   "metadata": {},
   "source": [
    "resultというディレクトリに実行結果が出力されます。"
   ]
  },
  {
   "cell_type": "code",
   "execution_count": null,
   "metadata": {},
   "outputs": [],
   "source": [
    "ls result"
   ]
  },
  {
   "cell_type": "markdown",
   "metadata": {},
   "source": [
    "cg.dotはDOT言語で記述されたネットワーク構造のファイル、logはJSONで記述された実行時間、エポック数、反復回数、精度などを記述したファイルになります。"
   ]
  }
 ],
 "metadata": {
  "kernelspec": {
   "display_name": "Bash",
   "language": "bash",
   "name": "bash"
  },
  "language_info": {
   "codemirror_mode": "shell",
   "file_extension": ".sh",
   "mimetype": "text/x-sh",
   "name": "bash"
  }
 },
 "nbformat": 4,
 "nbformat_minor": 2
}
