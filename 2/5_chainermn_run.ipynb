{
 "cells": [
  {
   "cell_type": "markdown",
   "metadata": {},
   "source": [
    "ChainerMNで[MNIST](https://en.wikipedia.org/wiki/MNIST_database)(手書き数字認識)のサンプルを動かします。<br>\n",
    "\n",
    "まず、ChainerMNのGitHubからソースコードをダウンロードします。"
   ]
  },
  {
   "cell_type": "code",
   "execution_count": 1,
   "metadata": {},
   "outputs": [
    {
     "name": "stdout",
     "output_type": "stream",
     "text": [
      "  % Total    % Received % Xferd  Average Speed   Time    Time     Time  Current\n",
      "                                 Dload  Upload   Total   Spent    Left  Speed\n",
      "100   127    0   127    0     0    181      0 --:--:-- --:--:-- --:--:--   181\n",
      "  0     0    0 1602k    0     0   770k      0 --:--:--  0:00:02 --:--:-- 1281k\n"
     ]
    }
   ],
   "source": [
    "curl -L https://github.com/chainer/chainermn/archive/v1.0.0b2.tar.gz | tar zx"
   ]
  },
  {
   "cell_type": "markdown",
   "metadata": {},
   "source": [
    "chainermn-1.0.0b2というディレクトリが作成されます。"
   ]
  },
  {
   "cell_type": "code",
   "execution_count": null,
   "metadata": {
    "collapsed": true
   },
   "outputs": [],
   "source": [
    "ls"
   ]
  },
  {
   "cell_type": "markdown",
   "metadata": {},
   "source": [
    "MNISTのサンプルはchainermn-1.0.0b2/examples/mnist以下にあります。"
   ]
  },
  {
   "cell_type": "code",
   "execution_count": null,
   "metadata": {
    "collapsed": true
   },
   "outputs": [],
   "source": [
    "ls chainermn-1.0.0b2/examples/mnist"
   ]
  },
  {
   "cell_type": "code",
   "execution_count": null,
   "metadata": {
    "collapsed": true
   },
   "outputs": [],
   "source": [
    "cat chainermn-1.0.0b2/examples/mnist/train_mnist.py"
   ]
  },
  {
   "cell_type": "markdown",
   "metadata": {},
   "source": [
    "Chainerを用いたプログラムの作成方法の詳細については下記を参照してください。<br>\n",
    "http://docs.chainer.org/en/latest/tutorial/index.html<br>\n",
    "ChaiinerMNを用いたプログラムの作成方法の詳細については下記を参照してください。<br>\n",
    "https://chainermn.readthedocs.org/en/latest/tutorial<br>\n",
    "\n",
    "\n",
    "ひとまず、ここでは、どのようなオプションがあるか確認してみましょう。"
   ]
  },
  {
   "cell_type": "code",
   "execution_count": null,
   "metadata": {
    "collapsed": true
   },
   "outputs": [],
   "source": [
    "python chainermn-1.0.0b2/examples/mnist/train_mnist.py -h"
   ]
  },
  {
   "cell_type": "markdown",
   "metadata": {},
   "source": [
    "\"-g\"オプションでGPUを使った実行をすることができます。<br>\n",
    "\"-e 数値\"オプションでepch数を指定することができます。<br>\n",
    "\"-b 数値\"オプションでミニバッチサイズを指定することができます。このミニバッチサイズに並列に実行するプロセス数を掛けたものが全体のバッチサイズとなります。<br>"
   ]
  },
  {
   "cell_type": "markdown",
   "metadata": {},
   "source": [
    "このtrain_mnist.pyをMPIを使って実行します。<br>\n",
    "MPIを使って並列にプロセスを実行する場合にはmpirun (またはmpiexec)を使用します。<br>\n",
    "どのようなオプションがあるか確認してみましょう。"
   ]
  },
  {
   "cell_type": "code",
   "execution_count": null,
   "metadata": {
    "collapsed": true
   },
   "outputs": [],
   "source": [
    "mpirun -h"
   ]
  },
  {
   "cell_type": "markdown",
   "metadata": {},
   "source": [
    "\"-n 数値\"オプションで並列に実行するプロセス数を指定することができます。<br>\n",
    "例えば、AAICは1ノードあたり8GPU搭載しているので、1ノードで実行する場合は\"-n 8\"とします。\n",
    "2ノードで実行する場合は16GPU(2ノード×8GPU)使うことになるとで\"-n 16\"とします。\n",
    "\n",
    "MPIでPythonプログラムを実行する場合は、<br>\n",
    "mpirun [MPIのオプション] python [Pythonのプログラム名] [Pythonのプログラムのオプション]<br>\n",
    "という順で引数を記述します。\n",
    "ここでは、GPUを8台用いて、Epoch数を20、ミニバッチサイズを32（全体のバッチサイズは256)として実行します。 \n",
    "\n",
    "インタラクティブノードにはGPUが搭載されていないため、以下のサンプルは、\n",
    "```\n",
    "$ ssh gpx001.aaic.hpcc.jp\n",
    "```\n",
    "とGPUを搭載した異なる計算ノード上で実行することができます。"
   ]
  },
  {
   "cell_type": "code",
   "execution_count": null,
   "metadata": {
    "collapsed": true
   },
   "outputs": [],
   "source": [
    "mpirun -np 8 python chainermn-1.0.0b2/examples/mnist/train_mnist.py --epoch 20 --batchsize 100 -g"
   ]
  },
  {
   "cell_type": "markdown",
   "metadata": {},
   "source": [
    "以下のようなエラーが出力される場合がありますが多くの場合実行に問題ありません。<br>\n",
    "mpirunのオプションに”--mca mpi_warn_on_fork 0”を追加することで出力を抑制することができます。<br>\n",
    "詳細は下記のサイトを参照してください。<br>\n",
    "https://github.com/chainer/chainermn/blob/master/docs/source/tutorial/tips_faqs.rst\n",
    "\n",
    "```\n",
    "--------------------------------------------------------------------------\n",
    "A process has executed an operation involving a call to the\n",
    "\"fork()\" system call to create a child process.  Open MPI is currently\n",
    "operating in a condition that could result in memory corruption or\n",
    "other system errors; your job may hang, crash, or produce silent\n",
    "data corruption.  The use of fork() (or system() or other calls that\n",
    "create child processes) is strongly discouraged.\n",
    "\n",
    "The process that invoked fork was:\n",
    "\n",
    "  Local host:          [[25170,1],1] (PID 29290)\n",
    "\n",
    "If you are *absolutely sure* that your application will successfully\n",
    "and correctly survive a call to fork(), you may disable this warning\n",
    "by setting the mpi_warn_on_fork MCA parameter to 0.\n",
    "--------------------------------------------------------------------------\n",
    "```"
   ]
  },
  {
   "cell_type": "markdown",
   "metadata": {},
   "source": [
    "無事実行されると、resultというディレクトリにtrain_mnist.pyの実行結果が出力されます。"
   ]
  },
  {
   "cell_type": "code",
   "execution_count": null,
   "metadata": {
    "collapsed": true
   },
   "outputs": [],
   "source": [
    "ls result"
   ]
  },
  {
   "cell_type": "markdown",
   "metadata": {},
   "source": [
    "cg.dotはDOT言語で記述されたネットワーク構造のファイル、logはJSONで記述された実行時間、エポック数、反復回数、精度などを記述したファイルになります。"
   ]
  }
 ],
 "metadata": {
  "kernelspec": {
   "display_name": "Bash",
   "language": "bash",
   "name": "bash"
  },
  "language_info": {
   "codemirror_mode": "shell",
   "file_extension": ".sh",
   "mimetype": "text/x-sh",
   "name": "bash"
  }
 },
 "nbformat": 4,
 "nbformat_minor": 2
}
