{
 "cells": [
  {
   "cell_type": "markdown",
   "metadata": {},
   "source": [
    "resultというディレクトリにtrain_mnist.pyの実行結果が出力されているとします。"
   ]
  },
  {
   "cell_type": "code",
   "execution_count": null,
   "metadata": {},
   "outputs": [],
   "source": [
    "ls result"
   ]
  },
  {
   "cell_type": "markdown",
   "metadata": {},
   "source": [
    "cg.dotはDOT言語で記述されたネットワーク構造のファイル、logはJSONで記述された実行時間、エポック数、反復回数、精度などを記述したファイルになります。"
   ]
  },
  {
   "cell_type": "markdown",
   "metadata": {},
   "source": [
    "cg.dotはdotコマンドによりpngなどの画像ファイルに変換することができます。"
   ]
  },
  {
   "cell_type": "code",
   "execution_count": null,
   "metadata": {},
   "outputs": [],
   "source": [
    "%%bash\n",
    "dot -Tpng result/cg.dot -o result/cg.png"
   ]
  },
  {
   "cell_type": "markdown",
   "metadata": {},
   "source": [
    "result/cg.pngを表示してみます。<br>\n",
    "ここではPythonスクリプトを使用して表示してみます。(eogコマンド等を使っても大丈夫です。)"
   ]
  },
  {
   "cell_type": "code",
   "execution_count": null,
   "metadata": {},
   "outputs": [],
   "source": [
    "from PIL import Image\n",
    "from matplotlib import pylab as plt\n",
    "\n",
    "%matplotlib inline\n",
    "plt.figure(figsize=(8, 8), dpi=400)\n",
    "plt.imshow(np.array(Image.open('result/cg.png')))"
   ]
  },
  {
   "cell_type": "markdown",
   "metadata": {},
   "source": [
    "result/logを表示してみます。<br>\n",
    "Pythonスクリプトを使ってファイルを読み込んでみましょう。"
   ]
  },
  {
   "cell_type": "code",
   "execution_count": null,
   "metadata": {},
   "outputs": [],
   "source": [
    "import json\n",
    "\n",
    "with open('result/log', 'r') as f:\n",
    "        data = json.load(f)\n",
    "        print(data)"
   ]
  },
  {
   "cell_type": "markdown",
   "metadata": {},
   "source": [
    "epoch毎にelapsed_time, iteration, main/loss, main/accuracy, validation/main/loss, validation/main/accuracyが出力されているのがわかります。<br>\n",
    "ここでは、epoch毎のvalidation/main/accuracyを表示してみましょう。"
   ]
  },
  {
   "cell_type": "code",
   "execution_count": null,
   "metadata": {},
   "outputs": [],
   "source": [
    "x, y = [],[]\n",
    "xlabel, ylabel = 'epoch', 'validation/main/accuracy'\n",
    "\n",
    "for d in data:\n",
    "    x.append(d[xlabel])\n",
    "    y.append(d[ylabel])\n",
    "\n",
    "%matplotlib inline\n",
    "plt.xlabel(xlabel)\n",
    "plt.ylabel(ylabel)\n",
    "plt.plot(x,y)"
   ]
  },
  {
   "cell_type": "markdown",
   "metadata": {},
   "source": [
    "xlabelとylabelを変更して他のデータも表示してみましょう。"
   ]
  }
 ],
 "metadata": {
  "kernelspec": {
   "display_name": "Python 3",
   "language": "python",
   "name": "python3"
  },
  "language_info": {
   "codemirror_mode": {
    "name": "ipython",
    "version": 3
   },
   "file_extension": ".py",
   "mimetype": "text/x-python",
   "name": "python",
   "nbconvert_exporter": "python",
   "pygments_lexer": "ipython3",
   "version": "3.5.3"
  }
 },
 "nbformat": 4,
 "nbformat_minor": 2
}
