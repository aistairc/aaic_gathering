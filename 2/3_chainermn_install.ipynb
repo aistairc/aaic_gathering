{
 "cells": [
  {
   "cell_type": "markdown",
   "metadata": {},
   "source": [
    "Pythonのパッケージ管理ソフトpipを用いて、[ChainerMN](https://github.com/chainer/chainermn)をインストールする方法を説明します。<br>\n",
    "ここで説明する方法を応用することで、他の深層学習のフレームワークをインストールすることもできます。<br>\n",
    "ChainerMNのインストールの詳細については以下のウェブページを参照してください。<br>\n",
    "https://chainermn.readthedocs.io/en/latest/installation/index.html\n",
    "\n",
    "\n",
    "まず、cython(PythonのC/C++言語拡張ライブラリ), matplotlib(グラフ描画ライブラリ), Pillow(画像処理ライブラリ)をインストールします。 "
   ]
  },
  {
   "cell_type": "code",
   "execution_count": null,
   "metadata": {
    "collapsed": true
   },
   "outputs": [],
   "source": [
    "pip3 install cython matplotlib Pillow"
   ]
  },
  {
   "cell_type": "markdown",
   "metadata": {},
   "source": [
    "次に、[Chainer](https://chainer.org/)をインストールします。<br>\n",
    "インストールの詳細については以下のウェブページを参照してください。<br>\n",
    "https://docs.chainer.org/en/stable/install.html\n",
    "\n",
    "\n",
    "まず、GPU向けのnumpy互換行列計算ライブラリである[cupy](https://cupy.chainer.org/)をインストールします。<br>\n",
    "インストールの詳細については以下のウェブページを参照してください。<br>\n",
    "https://docs-cupy.chainer.org/en/stable/install.html#install-cupy-via-pip\n",
    "\n",
    "cupyのインストールの際、GPUを使うためのライブラリであるCUDAを正しく認識させる必要があります。<br>\n",
    "AAICではソフトウェアの管理に[Environment Modules](http://modules.sourceforge.net)を利用しており、\n",
    "```\n",
    "$ module avail cuda\n",
    "```\n",
    "とすると利用なcudaのバージョンが表示されます。今回はデフォルトのものを利用します。<br>\n",
    "\n",
    "AAICのインタラクティブノードでは、以下のコマンドでcupyをインストールすることができます。"
   ]
  },
  {
   "cell_type": "code",
   "execution_count": null,
   "metadata": {
    "collapsed": true
   },
   "outputs": [],
   "source": [
    "env CUDA_PATH=$CUDA_HOME LDFLAGS=-L$CUDA_HOME/lib64/stubs/ pip install cupy"
   ]
  },
  {
   "cell_type": "markdown",
   "metadata": {},
   "source": [
    "続いて、Chainerをインストールします。"
   ]
  },
  {
   "cell_type": "code",
   "execution_count": null,
   "metadata": {
    "collapsed": true
   },
   "outputs": [],
   "source": [
    "pip install chainer"
   ]
  },
  {
   "cell_type": "markdown",
   "metadata": {},
   "source": [
    "並列分散処理ライブラリであるMPIのpythonラッパーである[mpi4py](http://pythonhosted.org/mpi4py/)をインストールします。<br>\n",
    "mpi4pyのインストールの際、使用するMPIを正しく認識させる必要があります。<br>\n",
    "AAICでは、\n",
    "```\n",
    "$ module avail openmpi\n",
    "```\n",
    "とすると利用可能なMPI(正確にはMPIの一実装であるopenmpi)のバージョンが表示されます。今回はデフォルトのものを利用します。<br>"
   ]
  },
  {
   "cell_type": "code",
   "execution_count": null,
   "metadata": {
    "collapsed": true
   },
   "outputs": [],
   "source": [
    "pip install mpi4py"
   ]
  },
  {
   "cell_type": "markdown",
   "metadata": {},
   "source": [
    "最後にChainerMNをインストールします。\n",
    "ChainerMNのインストールの際も、CUDAを正しく認識させる必要があります。"
   ]
  },
  {
   "cell_type": "code",
   "execution_count": null,
   "metadata": {
    "collapsed": true
   },
   "outputs": [],
   "source": [
    "env CUDA_PATH=$CUDA_HOME CFLAGS=-I$CUDA_HOME/include LDFLAGS=\"-L$CUDA_HOME/lib -L$CUDA_HOME/lib64/stubs/\" \\\n",
    "pip install chainermn"
   ]
  }
 ],
 "metadata": {
  "kernelspec": {
   "display_name": "Bash",
   "language": "bash",
   "name": "bash"
  },
  "language_info": {
   "codemirror_mode": "shell",
   "file_extension": ".sh",
   "mimetype": "text/x-sh",
   "name": "bash"
  }
 },
 "nbformat": 4,
 "nbformat_minor": 2
}
