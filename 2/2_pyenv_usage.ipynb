{
 "cells": [
  {
   "cell_type": "markdown",
   "metadata": {},
   "source": [
    "ここでは[pyenv](https://github.com/pyenv/pyenv)の使い方を説明します。\n",
    "\n",
    "インストール可能なPythonのバージョン一覧を出力します。<br>\n",
    "pyenvのinstallサブコマンドに--listオプションを付けて実行します。"
   ]
  },
  {
   "cell_type": "code",
   "execution_count": null,
   "metadata": {
    "collapsed": true
   },
   "outputs": [],
   "source": [
    "pyenv install --list"
   ]
  },
  {
   "cell_type": "markdown",
   "metadata": {},
   "source": [
    "ここで、Python 3.5.2をインストールしてみましょう。<br>\n",
    "pyenvのinstallサブコマンドにPythonのバージョンを付けて実行します。"
   ]
  },
  {
   "cell_type": "code",
   "execution_count": null,
   "metadata": {
    "collapsed": true
   },
   "outputs": [],
   "source": [
    "pyenv install 3.5.2"
   ]
  },
  {
   "cell_type": "markdown",
   "metadata": {},
   "source": [
    "インストール済みのPythonのバージョン一覧を出力します。<br>\n",
    "\\* が付いているものが現在有効になっているバージョン・環境です。"
   ]
  },
  {
   "cell_type": "code",
   "execution_count": null,
   "metadata": {
    "collapsed": true
   },
   "outputs": [],
   "source": [
    "pyenv versions"
   ]
  },
  {
   "cell_type": "markdown",
   "metadata": {},
   "source": [
    "globalサブコマンドを使うとPythonのversionを切り替えることができます。"
   ]
  },
  {
   "cell_type": "code",
   "execution_count": null,
   "metadata": {
    "collapsed": true
   },
   "outputs": [],
   "source": [
    "pyenv global 3.5.2"
   ]
  },
  {
   "cell_type": "code",
   "execution_count": null,
   "metadata": {
    "collapsed": true
   },
   "outputs": [],
   "source": [
    "pyenv versions"
   ]
  },
  {
   "cell_type": "markdown",
   "metadata": {},
   "source": [
    "[pyenv-virtualenv](https://github.com/pyenv/pyenv-virtualenv)を用いると独自のPython環境(Pythonのバージョンとpipによりインストールされたパッケージが指定された環境)を作成することができます。\n",
    "pyenvのvirtualenvサブコマンドにPythonのバージョンと環境の名前を指定します。\n",
    "ここではPython 3.5.2にchainermnという名前を付けます。"
   ]
  },
  {
   "cell_type": "code",
   "execution_count": null,
   "metadata": {
    "collapsed": true
   },
   "outputs": [],
   "source": [
    "pyenv virtualenv 3.5.2 chainermn"
   ]
  },
  {
   "cell_type": "code",
   "execution_count": null,
   "metadata": {
    "collapsed": true
   },
   "outputs": [],
   "source": [
    "pyenv versions"
   ]
  },
  {
   "cell_type": "markdown",
   "metadata": {},
   "source": [
    "ひとまず、ここではchainermn環境に設定しておきましょう。"
   ]
  },
  {
   "cell_type": "code",
   "execution_count": null,
   "metadata": {
    "collapsed": true
   },
   "outputs": [],
   "source": [
    "pyenv global chainermn"
   ]
  }
 ],
 "metadata": {
  "kernelspec": {
   "display_name": "Bash",
   "language": "bash",
   "name": "bash"
  },
  "language_info": {
   "codemirror_mode": "shell",
   "file_extension": ".sh",
   "mimetype": "text/x-sh",
   "name": "bash"
  }
 },
 "nbformat": 4,
 "nbformat_minor": 2
}
