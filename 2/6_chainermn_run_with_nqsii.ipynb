{
 "cells": [
  {
   "cell_type": "markdown",
   "metadata": {},
   "source": [
    "AAICではNQSIIというバッチジョブスケジューラが動作しています。<br>\n",
    "長時間実行する計算ジョブはNQSIIへジョブを投入する必要があります。<br>\n",
    "\n",
    "ここでは、ChainerMNでMNIST(手書き数字認識)のサンプルのジョブをNQSIIへ投入して動かしてみます。<br>\n",
    "まず、手元にChainerMNのソースコードがない場合は、ChainerMNのGitHubからソースコードをダウンロードします"
   ]
  },
  {
   "cell_type": "code",
   "execution_count": null,
   "metadata": {
    "collapsed": true
   },
   "outputs": [],
   "source": [
    "curl -L https://github.com/chainer/chainermn/archive/v1.0.0b2.tar.gz | tar zx"
   ]
  },
  {
   "cell_type": "markdown",
   "metadata": {},
   "source": [
    "chainermn-1.0.0b2というディレクトリが作成されており、MNISTのサンプルがchainermn-1.0.0b2/examples/mnist以下にあることを確認します。"
   ]
  },
  {
   "cell_type": "code",
   "execution_count": null,
   "metadata": {
    "collapsed": true
   },
   "outputs": [],
   "source": [
    "ls chainermn-1.0.0b2/examples/mnist"
   ]
  },
  {
   "cell_type": "markdown",
   "metadata": {},
   "source": [
    "バッチジョブスケジューラへジョブを投入するためには、まず、スクリプトファイルを記述する必要があります。<br>\n",
    "詳細は以下を参照してください。<br>\n",
    "https://github.com/aistairc/aaic/wiki/manual/NQSII_UsersGuide-Operation.pdf\n",
    "\n",
    "\n",
    "share/submit_chainermn.nqにtrain_mnist.pyをMPIで実行するためのサンプルのスクリプトファイルがあります。"
   ]
  },
  {
   "cell_type": "code",
   "execution_count": null,
   "metadata": {},
   "outputs": [],
   "source": [
    "cat share/submit_chainermn.nqs"
   ]
  },
  {
   "cell_type": "markdown",
   "metadata": {},
   "source": [
    "NQSIIに関連する記述は以下の通りです。\n",
    "* \\#PBS --group=[AAICグループ名]<br>投入するジョブが実行する際のAAICグループを指定します。ここではg-nairobiというAAICグループを指定していますが、適切な自分のAAICグループを指定してください。<br>\n",
    "* \\#PBS -q [キュー名]<br>ジョブを投入するキューを指定します。ここではgqを指定しています。現在のAAICでのキュー構成は以下のサイトを参照してください。<br>\n",
    "https://github.com/aistairc/aaic/wiki/AAIC仕様・現在利用可能サービス <br>\n",
    "* \\#PBS -b [計算ノードの台数]<br>計算ノードの数を指定します。ここでは、2台の計算ノードを指定しています。\n",
    "* \\#PBS -l cpunum_job=40, \\#PBS -l gpunum_job=8<br>\n",
    "CPUのコア数とGPUの台数を指定します。AAICのGPUを搭載した計算ノードでは、下図のように、1台あたり8つのGPUを搭載しており、CPUは40コア動作しているようにみえます。MPIを用いて安定で高速に計算する際は計算ノードを専有して使用する必要があるため、このような宣言が必要です。<br>\n",
    "* \\#PBS -l elapstim_req=[実行時間]<br>\n",
    "ジョブが動作する実行時間を指定します。ここでは5分と宣言しています。AAICでは短めの実行時間を宣言したほうがジョブがスケジュールされやすい設定になっています。(正確には、宣言された実行時間と実際に実行した際の実行時間の乖離が小さい場合が望ましい。)<br>\n",
    "* \\#PBS -T openmpi, \\#PBS -v NQSII_OMPI_MODVER=1.10.4/gcc4.8.5_cuda8.0<br>\n",
    "OpenMPIを用いてMPIを実行する際に必要になるオプションです。\n",
    "* \\#PBS -N [ジョブ名]<br>\n",
    "ジョブに名前をつけることができます。ジョブ実行中の標準出力や標準エラー出力が出力されるファイルの名前のプリフィックスなどに用いられます。<br>\n",
    "\n",
    "cd \\${PBS_O_WORKDIR}でqsubコマンドを実行したカレントディレクトリに移動して、その後、MPIを起動しています。<br>\n",
    "ここで指定しているmpirunのオプションは以下のとおりです。<br>\n",
    "* \\-x PATH<br>\n",
    "現在のPATH環境変数の内容をMPIで実行するリモートの計算ノードでも同様に指定します。\n",
    "* \\-n [数値]<br>\n",
    "並列に実行するプロセス数を指定することができます。ここでは、1ノードあたり8GPU搭載していて、それを2ノードで実行するので16と指定しています。<br>\n",
    "* \\${NQSII_MPIOPS}<br>\n",
    "NQSIIが指定するオプションを認識させるためのおまじないです。実際にはMPIのプロセスを実行する計算ノードを記載したファイルなどが設定されます。<br>\n",
    "* \\--npersocket 4<br>\n",
    "1ソケット(CPU)あたりに動作させる並列数を指定します。AAICでは下記のように1CPUあたりに4GPUが接続されているのでこのような設定を入れたほうが望ましいです。<br>\n",
    "\n",
    "![GPUNode](share/gpx001.pdf)"
   ]
  },
  {
   "cell_type": "markdown",
   "metadata": {},
   "source": [
    "qsubコマンドを用いてNQSIIへジョブを投入します。"
   ]
  },
  {
   "cell_type": "code",
   "execution_count": null,
   "metadata": {},
   "outputs": [],
   "source": [
    "qsub share/submit_chainermn.nqs"
   ]
  },
  {
   "cell_type": "markdown",
   "metadata": {},
   "source": [
    "qstatとすると実行中のジョブの状態を確認することができます。"
   ]
  },
  {
   "cell_type": "code",
   "execution_count": null,
   "metadata": {},
   "outputs": [],
   "source": [
    "man qstat "
   ]
  },
  {
   "cell_type": "code",
   "execution_count": null,
   "metadata": {},
   "outputs": [],
   "source": [
    "qstat -f 38883.bsv001"
   ]
  },
  {
   "cell_type": "markdown",
   "metadata": {},
   "source": [
    "RequestIDが投入したジョブに与えられたIDです。<br>\n",
    "投入したジョブの状態(qstatコマンド)や投入したジョブの出力(qcatコマンド)、投入したジョブの削除(qdelコマンド)などの操作の際に必要になります。<br>\n",
    "簡単のため、ここでは以下のようにRequestIDを取得することにします。<br>"
   ]
  },
  {
   "cell_type": "code",
   "execution_count": null,
   "metadata": {},
   "outputs": [],
   "source": [
    "RequestID=`qstat | awk 'NR==3' | awk -F' ' '{print $1}'`\n",
    "echo $RequestID"
   ]
  },
  {
   "cell_type": "markdown",
   "metadata": {},
   "source": [
    "STTに投入したジョブの状態が示されます。QUEの場合は実行待ち状態、RUNの場合は実行中になります。<br>"
   ]
  },
  {
   "cell_type": "markdown",
   "metadata": {},
   "source": [
    "qcatコマンドにより投入したジョブのスクリプトの内容や出力結果を確認することができます。"
   ]
  },
  {
   "cell_type": "code",
   "execution_count": null,
   "metadata": {},
   "outputs": [],
   "source": [
    "man qcat"
   ]
  },
  {
   "cell_type": "markdown",
   "metadata": {},
   "source": [
    "ジョブスクリプトの内容を出力します。 (オプションなし)"
   ]
  },
  {
   "cell_type": "code",
   "execution_count": null,
   "metadata": {},
   "outputs": [],
   "source": [
    "qcat $RequestID"
   ]
  },
  {
   "cell_type": "markdown",
   "metadata": {},
   "source": [
    "標準出力の内容を出力します。（-oオプション)"
   ]
  },
  {
   "cell_type": "code",
   "execution_count": null,
   "metadata": {},
   "outputs": [],
   "source": [
    "qcat -o $RequestID"
   ]
  },
  {
   "cell_type": "markdown",
   "metadata": {},
   "source": [
    "標準エラー出力の内容を出力します。(-eオプション)"
   ]
  },
  {
   "cell_type": "code",
   "execution_count": null,
   "metadata": {},
   "outputs": [],
   "source": [
    "qcat -e $RequestID"
   ]
  },
  {
   "cell_type": "markdown",
   "metadata": {},
   "source": [
    "qdelコマンドにより投入したジョブを削除することができます。<br>\n",
    "今回は実際にはジョブを削除しません。"
   ]
  },
  {
   "cell_type": "code",
   "execution_count": null,
   "metadata": {
    "collapsed": true
   },
   "outputs": [],
   "source": [
    "man qdel"
   ]
  },
  {
   "cell_type": "markdown",
   "metadata": {},
   "source": [
    "実行中の標準出力、標準エラー出力の結果はそれぞれ[ジョブ名].o[RequestIDの数値の部分], [ジョブ名].e[RequestIDの数値の部分]というファイルに格納されます。<br>\n",
    "例えば、今回はジョブ名をchainermn-testと設定しているので、chainermn-test.o[RequestIDの数値の部分], chainermn-test.e[RequestIDの数値の部分]などに出力されます。\n",
    "\n",
    "今、RequestIDの数値の部分をJobIDとし、以下のように取得します。"
   ]
  },
  {
   "cell_type": "code",
   "execution_count": null,
   "metadata": {},
   "outputs": [],
   "source": [
    "export JobID=${RequestID:0:-7}\n",
    "echo $JobID"
   ]
  },
  {
   "cell_type": "markdown",
   "metadata": {},
   "source": [
    "標準出力の内容を出力します。"
   ]
  },
  {
   "cell_type": "code",
   "execution_count": null,
   "metadata": {},
   "outputs": [],
   "source": [
    "cat chainermn-test.o$JobID"
   ]
  },
  {
   "cell_type": "markdown",
   "metadata": {},
   "source": [
    "標準エラー出力の内容を出力します。"
   ]
  },
  {
   "cell_type": "code",
   "execution_count": null,
   "metadata": {
    "collapsed": true
   },
   "outputs": [],
   "source": [
    "cat chainermn-test.e$JobID"
   ]
  },
  {
   "cell_type": "markdown",
   "metadata": {},
   "source": [
    "resultというディレクトリにtrain_mnist.pyの実行結果が出力されます。"
   ]
  },
  {
   "cell_type": "code",
   "execution_count": null,
   "metadata": {
    "collapsed": true
   },
   "outputs": [],
   "source": [
    "ls result"
   ]
  },
  {
   "cell_type": "markdown",
   "metadata": {},
   "source": [
    "cg.dotはDOT言語で記述されたネットワーク構造のファイル、logはJSONで記述された実行時間、エポック数、反復回数、精度などを記述したファイルになります。"
   ]
  }
 ],
 "metadata": {
  "kernelspec": {
   "display_name": "Bash",
   "language": "bash",
   "name": "bash"
  },
  "language_info": {
   "codemirror_mode": "shell",
   "file_extension": ".sh",
   "mimetype": "text/x-sh",
   "name": "bash"
  }
 },
 "nbformat": 4,
 "nbformat_minor": 2
}
