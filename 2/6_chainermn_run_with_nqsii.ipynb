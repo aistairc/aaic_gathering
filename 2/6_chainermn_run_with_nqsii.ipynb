{
 "cells": [
  {
   "cell_type": "markdown",
   "metadata": {},
   "source": [
    "AAICではNQSIIというバッチジョブスケジューラが動作しています。<br>\n",
    "長時間実行する計算ジョブはNQSIIへジョブを投入する必要があります。<br>\n",
    "\n",
    "ここでは、ChainerMNでMNIST(手書き数字認識)のサンプルのジョブをNQSIIへ投入して動かしてみます。<br>\n",
    "まず、手元にChainerMNのソースコードがない場合は、ChainerMNのGitHubからソースコードをダウンロードします"
   ]
  },
  {
   "cell_type": "code",
   "execution_count": null,
   "metadata": {},
   "outputs": [],
   "source": [
    "curl -L https://github.com/chainer/chainermn/archive/v1.0.0b2.tar.gz | tar zx"
   ]
  },
  {
   "cell_type": "markdown",
   "metadata": {},
   "source": [
    "chainermn-1.0.0b2というディレクトリが作成されており、MNISTのサンプルがchainermn-1.0.0b2/examples/mnist以下にあることを確認します。"
   ]
  },
  {
   "cell_type": "code",
   "execution_count": null,
   "metadata": {},
   "outputs": [],
   "source": [
    "ls chainermn-1.0.0b2/examples/mnist"
   ]
  },
  {
   "cell_type": "markdown",
   "metadata": {},
   "source": [
    "バッチジョブスケジューラへジョブを投入するためには、まず、スクリプトファイルを記述する必要があります。<br>\n",
    "詳細は以下を参照してください。<br>\n",
    "https://github.com/aistairc/aaic/wiki/manual/NQSII_UsersGuide-Operation.pdf\n",
    "\n",
    "\n",
    "share/submit_chainermn.nqにtrain_mnist.pyをMPIで実行するためのサンプルのスクリプトファイルがあります。"
   ]
  },
  {
   "cell_type": "code",
   "execution_count": null,
   "metadata": {},
   "outputs": [],
   "source": [
    "cat share/submit_chainermn.nqs"
   ]
  },
  {
   "cell_type": "markdown",
   "metadata": {},
   "source": [
    "スクリプトファイルの説明"
   ]
  },
  {
   "cell_type": "markdown",
   "metadata": {},
   "source": [
    "qsubコマンドを用いてNQSIIへジョブを投入します。"
   ]
  },
  {
   "cell_type": "code",
   "execution_count": null,
   "metadata": {},
   "outputs": [],
   "source": [
    "qsub share/submit_chainermn.nqs"
   ]
  },
  {
   "cell_type": "markdown",
   "metadata": {},
   "source": [
    "qstatとすると実行中のジョブの状態を確認することができます。"
   ]
  },
  {
   "cell_type": "code",
   "execution_count": null,
   "metadata": {},
   "outputs": [],
   "source": [
    "qstat"
   ]
  },
  {
   "cell_type": "markdown",
   "metadata": {},
   "source": [
    "```\n",
    "$qcat [options] [JobID]\n",
    "```\n",
    "とすると投入したジョブのスクリプトの内容や出力結果を確認することができます。\n",
    "ここでは以下のようにJobIDを取得するとします。"
   ]
  },
  {
   "cell_type": "code",
   "execution_count": null,
   "metadata": {},
   "outputs": [],
   "source": [
    "JobID=`qstat | awk 'NR==3' | awk -F' ' '{print $1}'`\n",
    "echo $JobID"
   ]
  },
  {
   "cell_type": "markdown",
   "metadata": {},
   "source": [
    "ジョブスクリプトの内容を出力します。 (オプションなし)"
   ]
  },
  {
   "cell_type": "code",
   "execution_count": null,
   "metadata": {},
   "outputs": [],
   "source": [
    "qcat $JobID"
   ]
  },
  {
   "cell_type": "markdown",
   "metadata": {},
   "source": [
    "標準出力の内容を出力します。（-oオプション)"
   ]
  },
  {
   "cell_type": "code",
   "execution_count": null,
   "metadata": {},
   "outputs": [],
   "source": [
    "qcat -o $JobID"
   ]
  },
  {
   "cell_type": "markdown",
   "metadata": {},
   "source": [
    "標準エラー出力の内容を出力します。(-eオプション)"
   ]
  },
  {
   "cell_type": "code",
   "execution_count": null,
   "metadata": {},
   "outputs": [],
   "source": [
    "qcat -e $JobID"
   ]
  },
  {
   "cell_type": "markdown",
   "metadata": {},
   "source": [
    "実行中の標準出力、標準エラー出力の結果はそれぞれchainermn-test.o[JobIDの数値の部分], chainermn-test.e[JobIDの数値の部分]というファイルに格納されます。<br>\n",
    "\n",
    "今、JobIDの数値の部分をJobIDNumとし、以下のように取得します。"
   ]
  },
  {
   "cell_type": "code",
   "execution_count": null,
   "metadata": {},
   "outputs": [],
   "source": [
    "export JobIDNum=${JobID:0:-7}\n",
    "echo $JobIDNum"
   ]
  },
  {
   "cell_type": "markdown",
   "metadata": {},
   "source": [
    "標準出力の内容を出力します。"
   ]
  },
  {
   "cell_type": "code",
   "execution_count": null,
   "metadata": {},
   "outputs": [],
   "source": [
    "cat chainermn-test.o$JobIDNum"
   ]
  },
  {
   "cell_type": "markdown",
   "metadata": {},
   "source": [
    "標準エラー出力の内容を出力します。"
   ]
  },
  {
   "cell_type": "code",
   "execution_count": null,
   "metadata": {},
   "outputs": [],
   "source": [
    "cat chainermn-test.e$JobIDNum"
   ]
  },
  {
   "cell_type": "markdown",
   "metadata": {},
   "source": [
    "resultというディレクトリにtrain_mnist.pyの実行結果が出力されます。"
   ]
  },
  {
   "cell_type": "code",
   "execution_count": null,
   "metadata": {},
   "outputs": [],
   "source": [
    "ls result"
   ]
  },
  {
   "cell_type": "markdown",
   "metadata": {},
   "source": [
    "cg.dotはDOT言語で記述されたネットワーク構造のファイル、logはJSONで記述された実行時間、エポック数、反復回数、精度などを記述したファイルになります。"
   ]
  }
 ],
 "metadata": {
  "kernelspec": {
   "display_name": "Bash",
   "language": "bash",
   "name": "bash"
  },
  "language_info": {
   "codemirror_mode": "shell",
   "file_extension": ".sh",
   "mimetype": "text/x-sh",
   "name": "bash"
  }
 },
 "nbformat": 4,
 "nbformat_minor": 2
}
